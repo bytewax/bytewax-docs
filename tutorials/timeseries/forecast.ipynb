{
 "cells": [
  {
   "cell_type": "markdown",
   "metadata": {},
   "source": [
    "## Building a Forecasting Swarm\n",
    "\n",
    "We are going to use a notebook to build the bees for a forecasting swarm. We are going to use the DevSwarm capabilities of the SDK to enable us to test this locally in our notebook as we go. We will first prep our data and then use ARIMA to make our forecast.  "
   ]
  },
  {
   "cell_type": "code",
   "execution_count": 1,
   "metadata": {
    "tags": []
   },
   "outputs": [],
   "source": [
    "import logging\n",
    "mpl_logger = logging.getLogger('matplotlib')\n",
    "mpl_logger.setLevel(logging.WARNING)\n",
    "\n",
    "from bytewax.swarm import register_bee, DevSwarm\n",
    "from pmdarima.arima import auto_arima\n",
    "import pandas as pd\n",
    "from sklearn.metrics import r2_score\n",
    "import numpy as np\n",
    "import json"
   ]
  },
  {
   "cell_type": "code",
   "execution_count": 2,
   "metadata": {},
   "outputs": [],
   "source": [
    "@register_bee(name='data-prep')\n",
    "def data_prep(swarm, data, context):\n",
    "    data = pd.read_json(data)\n",
    "    data.iloc[:,0] = pd.to_datetime(data.iloc[:,0])\n",
    "    data.rename(columns={data.columns[0]:'ds'}, inplace=True)\n",
    "    data.set_index('ds',inplace=True)\n",
    "    data.rename(columns={data.columns[0]:'y'}, inplace=True)\n",
    "    swarm.publish(data, context)"
   ]
  },
  {
   "cell_type": "code",
   "execution_count": 3,
   "metadata": {},
   "outputs": [],
   "source": [
    "@register_bee(name='arima')\n",
    "def arima(swarm, df, context):\n",
    "    #split for train and test\n",
    "    train = df[:int(len(df)*.80)]\n",
    "    test = df[int(-len(df)*.20):].copy()\n",
    "\n",
    "    # train model\n",
    "    arima_model =  auto_arima(train,start_p=0, d=1, start_q=0, \n",
    "                            max_p=5, max_d=5, max_q=5, start_P=0, \n",
    "                            D=1, start_Q=0, max_P=5, max_D=5,\n",
    "                            max_Q=5, m=12, seasonal=True, \n",
    "                            error_action='warn',trace = True,\n",
    "                            supress_warnings=True,stepwise = True,\n",
    "                            random_state=20,n_fits = 50 )\n",
    "    print(arima_model.summary())\n",
    "    in_sample_prediction = pd.DataFrame(arima_model.predict(n_periods = int(len(df)*.20)),index=test.index)\n",
    "    in_sample_prediction.columns = ['y_hat']\n",
    "    test['y_hat'] = in_sample_prediction\n",
    "\n",
    "    # determine model score \n",
    "    score = r2_score(test['y'], test['y_hat'])\n",
    "    if score >= 0.5:\n",
    "        # make dataframe with future periods\n",
    "        ftr =  pd.DataFrame(index = pd.date_range(df.index[-1], df.index[-1] + pd.DateOffset(months=24), freq='M') + pd.DateOffset(days=1), columns=['y'])\n",
    "        ftr['y'] = pd.DataFrame(arima_model.predict(n_periods = int(len(ftr))),index=ftr.index)\n",
    "        prediction = pd.concat([df, ftr])\n",
    "        response = json.dumps({'prediction':prediction.to_json(date_format='iso'), 'r2score':score})\n",
    "        swarm.respond(response, context)\n",
    "    else:\n",
    "        swarm.respond(\"score too low, can't predict\", context)"
   ]
  },
  {
   "cell_type": "code",
   "execution_count": 4,
   "metadata": {},
   "outputs": [
    {
     "output_type": "stream",
     "name": "stdout",
     "text": [
      "               y\n",
      "ds              \n",
      "1964-01-01  2815\n",
      "1964-02-01  2672\n",
      "1964-03-01  2755\n",
      "1964-04-01  2721\n",
      "1964-05-01  2946\n",
      "...          ...\n",
      "1972-05-01  4618\n",
      "1972-06-01  5312\n",
      "1972-07-01  4298\n",
      "1972-08-01  1413\n",
      "1972-09-01  5877\n",
      "\n",
      "[105 rows x 1 columns]\n",
      "Performing stepwise search to minimize aic\n",
      " ARIMA(0,1,0)(0,1,0)[12]             : AIC=1183.693, Time=0.03 sec\n",
      " ARIMA(1,1,0)(1,1,0)[12]             : AIC=1173.736, Time=0.07 sec\n",
      " ARIMA(0,1,1)(0,1,1)[12]             : AIC=1157.042, Time=0.15 sec\n",
      " ARIMA(0,1,1)(0,1,0)[12]             : AIC=1155.109, Time=0.04 sec\n",
      " ARIMA(0,1,1)(1,1,0)[12]             : AIC=1157.009, Time=0.12 sec\n",
      " ARIMA(0,1,1)(1,1,1)[12]             : AIC=1158.348, Time=0.30 sec\n",
      " ARIMA(1,1,1)(0,1,0)[12]             : AIC=1155.379, Time=0.07 sec\n",
      " ARIMA(0,1,2)(0,1,0)[12]             : AIC=1155.138, Time=0.07 sec\n",
      " ARIMA(1,1,0)(0,1,0)[12]             : AIC=1173.612, Time=0.02 sec\n",
      " ARIMA(1,1,2)(0,1,0)[12]             : AIC=1155.790, Time=0.14 sec\n",
      " ARIMA(0,1,1)(0,1,0)[12] intercept   : AIC=inf, Time=0.06 sec\n",
      "\n",
      "Best model:  ARIMA(0,1,1)(0,1,0)[12]          \n",
      "Total fit time: 1.066 seconds\n",
      "                                      SARIMAX Results                                      \n",
      "===========================================================================================\n",
      "Dep. Variable:                                   y   No. Observations:                   84\n",
      "Model:             SARIMAX(0, 1, 1)x(0, 1, [], 12)   Log Likelihood                -575.554\n",
      "Date:                             Tue, 03 Aug 2021   AIC                           1155.109\n",
      "Time:                                     17:44:20   BIC                           1159.634\n",
      "Sample:                                          0   HQIC                          1156.908\n",
      "                                              - 84                                         \n",
      "Covariance Type:                               opg                                         \n",
      "==============================================================================\n",
      "                 coef    std err          z      P>|z|      [0.025      0.975]\n",
      "------------------------------------------------------------------------------\n",
      "ma.L1         -0.8756      0.060    -14.663      0.000      -0.993      -0.759\n",
      "sigma2       5.86e+05   7.15e+04      8.195      0.000    4.46e+05    7.26e+05\n",
      "===================================================================================\n",
      "Ljung-Box (L1) (Q):                   0.16   Jarque-Bera (JB):                 6.95\n",
      "Prob(Q):                              0.69   Prob(JB):                         0.03\n",
      "Heteroskedasticity (H):               2.13   Skew:                             0.01\n",
      "Prob(H) (two-sided):                  0.07   Kurtosis:                         4.53\n",
      "===================================================================================\n",
      "\n",
      "Warnings:\n",
      "[1] Covariance matrix calculated using the outer product of gradients (complex-step).\n",
      "{'prediction': '{\"y\":{\"1964-01-01T00:00:00.000Z\":2815.0,\"1964-02-01T00:00:00.000Z\":2672.0,\"1964-03-01T00:00:00.000Z\":2755.0,\"1964-04-01T00:00:00.000Z\":2721.0,\"1964-05-01T00:00:00.000Z\":2946.0,\"1964-06-01T00:00:00.000Z\":3036.0,\"1964-07-01T00:00:00.000Z\":2282.0,\"1964-08-01T00:00:00.000Z\":2212.0,\"1964-09-01T00:00:00.000Z\":2922.0,\"1964-10-01T00:00:00.000Z\":4301.0,\"1964-11-01T00:00:00.000Z\":5764.0,\"1964-12-01T00:00:00.000Z\":7312.0,\"1965-01-01T00:00:00.000Z\":2541.0,\"1965-02-01T00:00:00.000Z\":2475.0,\"1965-03-01T00:00:00.000Z\":3031.0,\"1965-04-01T00:00:00.000Z\":3266.0,\"1965-05-01T00:00:00.000Z\":3776.0,\"1965-06-01T00:00:00.000Z\":3230.0,\"1965-07-01T00:00:00.000Z\":3028.0,\"1965-08-01T00:00:00.000Z\":1759.0,\"1965-09-01T00:00:00.000Z\":3595.0,\"1965-10-01T00:00:00.000Z\":4474.0,\"1965-11-01T00:00:00.000Z\":6838.0,\"1965-12-01T00:00:00.000Z\":8357.0,\"1966-01-01T00:00:00.000Z\":3113.0,\"1966-02-01T00:00:00.000Z\":3006.0,\"1966-03-01T00:00:00.000Z\":4047.0,\"1966-04-01T00:00:00.000Z\":3523.0,\"1966-05-01T00:00:00.000Z\":3937.0,\"1966-06-01T00:00:00.000Z\":3986.0,\"1966-07-01T00:00:00.000Z\":3260.0,\"1966-08-01T00:00:00.000Z\":1573.0,\"1966-09-01T00:00:00.000Z\":3528.0,\"1966-10-01T00:00:00.000Z\":5211.0,\"1966-11-01T00:00:00.000Z\":7614.0,\"1966-12-01T00:00:00.000Z\":9254.0,\"1967-01-01T00:00:00.000Z\":5375.0,\"1967-02-01T00:00:00.000Z\":3088.0,\"1967-03-01T00:00:00.000Z\":3718.0,\"1967-04-01T00:00:00.000Z\":4514.0,\"1967-05-01T00:00:00.000Z\":4520.0,\"1967-06-01T00:00:00.000Z\":4539.0,\"1967-07-01T00:00:00.000Z\":3663.0,\"1967-08-01T00:00:00.000Z\":1643.0,\"1967-09-01T00:00:00.000Z\":4739.0,\"1967-10-01T00:00:00.000Z\":5428.0,\"1967-11-01T00:00:00.000Z\":8314.0,\"1967-12-01T00:00:00.000Z\":10651.0,\"1968-01-01T00:00:00.000Z\":3633.0,\"1968-02-01T00:00:00.000Z\":4292.0,\"1968-03-01T00:00:00.000Z\":4154.0,\"1968-04-01T00:00:00.000Z\":4121.0,\"1968-05-01T00:00:00.000Z\":4647.0,\"1968-06-01T00:00:00.000Z\":4753.0,\"1968-07-01T00:00:00.000Z\":3965.0,\"1968-08-01T00:00:00.000Z\":1723.0,\"1968-09-01T00:00:00.000Z\":5048.0,\"1968-10-01T00:00:00.000Z\":6922.0,\"1968-11-01T00:00:00.000Z\":9858.0,\"1968-12-01T00:00:00.000Z\":11331.0,\"1969-01-01T00:00:00.000Z\":4016.0,\"1969-02-01T00:00:00.000Z\":3957.0,\"1969-03-01T00:00:00.000Z\":4510.0,\"1969-04-01T00:00:00.000Z\":4276.0,\"1969-05-01T00:00:00.000Z\":4968.0,\"1969-06-01T00:00:00.000Z\":4677.0,\"1969-07-01T00:00:00.000Z\":3523.0,\"1969-08-01T00:00:00.000Z\":1821.0,\"1969-09-01T00:00:00.000Z\":5222.0,\"1969-10-01T00:00:00.000Z\":6872.0,\"1969-11-01T00:00:00.000Z\":10803.0,\"1969-12-01T00:00:00.000Z\":13916.0,\"1970-01-01T00:00:00.000Z\":2639.0,\"1970-02-01T00:00:00.000Z\":2899.0,\"1970-03-01T00:00:00.000Z\":3370.0,\"1970-04-01T00:00:00.000Z\":3740.0,\"1970-05-01T00:00:00.000Z\":2927.0,\"1970-06-01T00:00:00.000Z\":3986.0,\"1970-07-01T00:00:00.000Z\":4217.0,\"1970-08-01T00:00:00.000Z\":1738.0,\"1970-09-01T00:00:00.000Z\":5221.0,\"1970-10-01T00:00:00.000Z\":6424.0,\"1970-11-01T00:00:00.000Z\":9842.0,\"1970-12-01T00:00:00.000Z\":13076.0,\"1971-01-01T00:00:00.000Z\":3934.0,\"1971-02-01T00:00:00.000Z\":3162.0,\"1971-03-01T00:00:00.000Z\":4286.0,\"1971-04-01T00:00:00.000Z\":4676.0,\"1971-05-01T00:00:00.000Z\":5010.0,\"1971-06-01T00:00:00.000Z\":4874.0,\"1971-07-01T00:00:00.000Z\":4633.0,\"1971-08-01T00:00:00.000Z\":1659.0,\"1971-09-01T00:00:00.000Z\":5951.0,\"1971-10-01T00:00:00.000Z\":6981.0,\"1971-11-01T00:00:00.000Z\":9851.0,\"1971-12-01T00:00:00.000Z\":12670.0,\"1972-01-01T00:00:00.000Z\":4348.0,\"1972-02-01T00:00:00.000Z\":3564.0,\"1972-03-01T00:00:00.000Z\":4577.0,\"1972-04-01T00:00:00.000Z\":4788.0,\"1972-05-01T00:00:00.000Z\":4618.0,\"1972-06-01T00:00:00.000Z\":5312.0,\"1972-07-01T00:00:00.000Z\":4298.0,\"1972-08-01T00:00:00.000Z\":1413.0,\"1972-09-01T00:00:00.000Z\":5877.0,\"1972-10-01T00:00:00.000Z\":2260.640694763,\"1972-11-01T00:00:00.000Z\":2520.640694763,\"1972-12-01T00:00:00.000Z\":2991.640694763,\"1973-01-01T00:00:00.000Z\":3361.640694763,\"1973-02-01T00:00:00.000Z\":2548.640694763,\"1973-03-01T00:00:00.000Z\":3607.640694763,\"1973-04-01T00:00:00.000Z\":3838.640694763,\"1973-05-01T00:00:00.000Z\":1359.640694763,\"1973-06-01T00:00:00.000Z\":4842.640694763,\"1973-07-01T00:00:00.000Z\":6045.640694763,\"1973-08-01T00:00:00.000Z\":9463.640694763,\"1973-09-01T00:00:00.000Z\":12697.640694763,\"1973-10-01T00:00:00.000Z\":1882.2813895261,\"1973-11-01T00:00:00.000Z\":2142.2813895261,\"1973-12-01T00:00:00.000Z\":2613.2813895261,\"1974-01-01T00:00:00.000Z\":2983.2813895261,\"1974-02-01T00:00:00.000Z\":2170.2813895261,\"1974-03-01T00:00:00.000Z\":3229.2813895261,\"1974-04-01T00:00:00.000Z\":3460.2813895261,\"1974-05-01T00:00:00.000Z\":981.2813895261,\"1974-06-01T00:00:00.000Z\":4464.2813895261,\"1974-07-01T00:00:00.000Z\":5667.2813895261,\"1974-08-01T00:00:00.000Z\":9085.2813895261,\"1974-09-01T00:00:00.000Z\":12319.2813895261}}', 'r2score': 0.6212736636877378}\n"
     ]
    }
   ],
   "source": [
    "if __name__ == '__main__':\n",
    "    swarm = DevSwarm()\n",
    "    data = pd.read_csv('data.csv')\n",
    "    data = data.to_json()\n",
    "    data_prep(swarm, data, {})\n",
    "    df = swarm.published[0]\n",
    "\n",
    "    #start the second bee after resetting the swarm object\n",
    "    print(df)\n",
    "    arima(swarm, df, {})\n",
    "    \n",
    "    resp = json.loads(swarm.responded[0])\n",
    "    forecast = pd.read_json(resp['prediction'])\n",
    "    print(resp)\n"
   ]
  },
  {
   "cell_type": "code",
   "execution_count": null,
   "metadata": {},
   "outputs": [],
   "source": []
  }
 ],
 "metadata": {
  "interpreter": {
   "hash": "be832cb42d318617c4bd417068da863147a6485950aaa5323a21332386f06ab6"
  },
  "kernelspec": {
   "name": "python3",
   "display_name": "Python 3.8.10 64-bit ('timeseries': conda)"
  },
  "language_info": {
   "codemirror_mode": {
    "name": "ipython",
    "version": 3
   },
   "file_extension": ".py",
   "mimetype": "text/x-python",
   "name": "python",
   "nbconvert_exporter": "python",
   "pygments_lexer": "ipython3",
   "version": "3.8.10"
  }
 },
 "nbformat": 4,
 "nbformat_minor": 2
}